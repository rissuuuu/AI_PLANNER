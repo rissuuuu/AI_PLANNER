{
 "cells": [
  {
   "cell_type": "code",
   "execution_count": 1,
   "id": "f525e10e-806a-42c7-80ce-b2b9fee78a82",
   "metadata": {},
   "outputs": [],
   "source": [
    "import numpy as np"
   ]
  },
  {
   "cell_type": "code",
   "execution_count": 2,
   "id": "171468d8-cb79-4e47-a665-a51340f0dd64",
   "metadata": {},
   "outputs": [],
   "source": [
    "a = np.array([1, 2, 3])        # Shape: (3,)\n",
    "b = np.array([[10], [20], [30]]) # Shape: (3,1)"
   ]
  },
  {
   "cell_type": "code",
   "execution_count": 14,
   "id": "78c5f912-e484-4ba9-b6e9-657de96e5834",
   "metadata": {},
   "outputs": [
    {
     "data": {
      "text/plain": [
       "((1, 3), (3, 1))"
      ]
     },
     "execution_count": 14,
     "metadata": {},
     "output_type": "execute_result"
    }
   ],
   "source": [
    "a = a.reshape(1,3)\n",
    "a.shape,b.shape "
   ]
  },
  {
   "cell_type": "code",
   "execution_count": 15,
   "id": "400a2cf5-2920-485c-a66f-01c6da6a3d5d",
   "metadata": {},
   "outputs": [
    {
     "data": {
      "text/plain": [
       "array([[11, 12, 13],\n",
       "       [21, 22, 23],\n",
       "       [31, 32, 33]])"
      ]
     },
     "execution_count": 15,
     "metadata": {},
     "output_type": "execute_result"
    }
   ],
   "source": [
    "b+a"
   ]
  },
  {
   "cell_type": "code",
   "execution_count": 18,
   "id": "2c3f7368-764b-4d54-91a3-0077a55958fa",
   "metadata": {},
   "outputs": [
    {
     "data": {
      "text/plain": [
       "array([[10, 20, 30],\n",
       "       [20, 40, 60],\n",
       "       [30, 60, 90]])"
      ]
     },
     "execution_count": 18,
     "metadata": {},
     "output_type": "execute_result"
    }
   ],
   "source": [
    "np.dot(b,a)"
   ]
  },
  {
   "cell_type": "code",
   "execution_count": 22,
   "id": "a2f18457-8626-4657-a7d2-4d49ca8ad6ab",
   "metadata": {},
   "outputs": [
    {
     "data": {
      "text/plain": [
       "array([[16, 17, 18],\n",
       "       [26, 27, 28],\n",
       "       [36, 37, 38]])"
      ]
     },
     "execution_count": 22,
     "metadata": {},
     "output_type": "execute_result"
    }
   ],
   "source": [
    "d = np.add(b,a)+5\n",
    "d"
   ]
  },
  {
   "cell_type": "code",
   "execution_count": 30,
   "id": "dad15fe0-926b-4222-8aa9-660fdbb92fc7",
   "metadata": {},
   "outputs": [
    {
     "data": {
      "text/plain": [
       "array([17., 27., 37.])"
      ]
     },
     "execution_count": 30,
     "metadata": {},
     "output_type": "execute_result"
    }
   ],
   "source": [
    "d.mean(axis=1)"
   ]
  },
  {
   "cell_type": "code",
   "execution_count": 31,
   "id": "2eb5f6e2-d78d-467c-abd3-9bd6dffe1e06",
   "metadata": {},
   "outputs": [
    {
     "data": {
      "text/plain": [
       "17.0"
      ]
     },
     "execution_count": 31,
     "metadata": {},
     "output_type": "execute_result"
    }
   ],
   "source": [
    "(16+17+18)/3"
   ]
  },
  {
   "cell_type": "code",
   "execution_count": 32,
   "id": "6837d654-648f-47f1-8596-602ebecc67a7",
   "metadata": {},
   "outputs": [
    {
     "data": {
      "text/plain": [
       "(array([5, 7, 9]), array([ 4, 10, 18]), array([-3, -3, -3]))"
      ]
     },
     "execution_count": 32,
     "metadata": {},
     "output_type": "execute_result"
    }
   ],
   "source": [
    "# Element Wise Operations\n",
    "\n",
    "a = np.array([1,2,3])\n",
    "b = np.array([4,5,6])\n",
    "a+b,a*b,a-b"
   ]
  },
  {
   "cell_type": "code",
   "execution_count": 34,
   "id": "5345ece5-04ac-4200-b92e-78ceeca455b5",
   "metadata": {},
   "outputs": [
    {
     "data": {
      "text/plain": [
       "(array([10, 20, 30]), array([6, 7, 8]))"
      ]
     },
     "execution_count": 34,
     "metadata": {},
     "output_type": "execute_result"
    }
   ],
   "source": [
    "# Scalar Operations\n",
    "a*10,a+5"
   ]
  },
  {
   "cell_type": "code",
   "execution_count": 38,
   "id": "0f4433a5-be15-4de0-8a2c-ff9a0f398ef4",
   "metadata": {},
   "outputs": [
    {
     "data": {
      "text/plain": [
       "(array([1.        , 1.41421356, 1.73205081]),\n",
       " array([ 2.71828183,  7.3890561 , 20.08553692]),\n",
       " array([0.69314718, 1.09861229, 1.38629436]))"
      ]
     },
     "execution_count": 38,
     "metadata": {},
     "output_type": "execute_result"
    }
   ],
   "source": [
    "# Mathematical Functions\n",
    "np.sqrt(a),np.exp(a),np.log(a+1)"
   ]
  },
  {
   "cell_type": "code",
   "execution_count": 44,
   "id": "9b2aba70-f3f2-4d5b-9165-86da14ed4283",
   "metadata": {},
   "outputs": [
    {
     "data": {
      "text/plain": [
       "6.579600549699714"
      ]
     },
     "execution_count": 44,
     "metadata": {},
     "output_type": "execute_result"
    }
   ],
   "source": [
    "2**(2.718)"
   ]
  },
  {
   "cell_type": "code",
   "execution_count": 49,
   "id": "2f6846db-ec95-46cb-8344-6a14c4218f62",
   "metadata": {},
   "outputs": [
    {
     "data": {
      "text/plain": [
       "(np.float64(7.38905609893065), 7.387524)"
      ]
     },
     "execution_count": 49,
     "metadata": {},
     "output_type": "execute_result"
    }
   ],
   "source": [
    "np.exp(2),(2.718*2.718)"
   ]
  },
  {
   "cell_type": "code",
   "execution_count": 50,
   "id": "312c9d5b-e762-44be-a2c6-2776745e47a8",
   "metadata": {},
   "outputs": [
    {
     "data": {
      "text/plain": [
       "(array([1, 2, 3]), array([4, 5, 6]))"
      ]
     },
     "execution_count": 50,
     "metadata": {},
     "output_type": "execute_result"
    }
   ],
   "source": [
    "a,b"
   ]
  },
  {
   "cell_type": "code",
   "execution_count": 51,
   "id": "2be02ef5-c4f9-4111-b368-96f1ca2090e4",
   "metadata": {},
   "outputs": [
    {
     "data": {
      "text/plain": [
       "array([False, False, False])"
      ]
     },
     "execution_count": 51,
     "metadata": {},
     "output_type": "execute_result"
    }
   ],
   "source": [
    "a>b"
   ]
  },
  {
   "cell_type": "code",
   "execution_count": 52,
   "id": "0294e3f6-a4ee-4458-97fb-a07ea928012d",
   "metadata": {},
   "outputs": [
    {
     "data": {
      "text/plain": [
       "array([ True,  True,  True])"
      ]
     },
     "execution_count": 52,
     "metadata": {},
     "output_type": "execute_result"
    }
   ],
   "source": [
    "b>a"
   ]
  },
  {
   "cell_type": "code",
   "execution_count": 58,
   "id": "4717eb98-e95a-4ee6-b090-b0bd324bfe1f",
   "metadata": {},
   "outputs": [],
   "source": [
    "a = np.array([[1], [2], [3]])   # Shape (3,1)\n",
    "b = np.array([10, 20, 30]).reshape(1,3)"
   ]
  },
  {
   "cell_type": "code",
   "execution_count": 59,
   "id": "ea2e360e-2c77-4d2f-b3d1-95153ab18f17",
   "metadata": {},
   "outputs": [
    {
     "data": {
      "text/plain": [
       "((3, 1), (1, 3))"
      ]
     },
     "execution_count": 59,
     "metadata": {},
     "output_type": "execute_result"
    }
   ],
   "source": [
    "a.shape,b.shape"
   ]
  },
  {
   "cell_type": "code",
   "execution_count": 62,
   "id": "946939be-ffa9-41b4-9b95-66bc524f16d2",
   "metadata": {},
   "outputs": [
    {
     "data": {
      "text/plain": [
       "array([[11, 21, 31],\n",
       "       [12, 22, 32],\n",
       "       [13, 23, 33]])"
      ]
     },
     "execution_count": 62,
     "metadata": {},
     "output_type": "execute_result"
    }
   ],
   "source": [
    "a+b"
   ]
  },
  {
   "cell_type": "code",
   "execution_count": 63,
   "id": "cd25262b-ea37-40ab-8849-126d68d84e79",
   "metadata": {},
   "outputs": [],
   "source": [
    "A = np.array([[1, 2], [3, 4]])\n",
    "B = np.array([[5, 6], [7, 8]])"
   ]
  },
  {
   "cell_type": "code",
   "execution_count": 65,
   "id": "411beaf2-4e31-4f61-aaa9-b80dc4ac2ac2",
   "metadata": {},
   "outputs": [
    {
     "data": {
      "text/plain": [
       "(array([[1, 2],\n",
       "        [3, 4]]),\n",
       " array([[5, 6],\n",
       "        [7, 8]]))"
      ]
     },
     "execution_count": 65,
     "metadata": {},
     "output_type": "execute_result"
    }
   ],
   "source": [
    "A,B"
   ]
  },
  {
   "cell_type": "code",
   "execution_count": 66,
   "id": "17387d08-922e-48c2-a411-b4a323fb9784",
   "metadata": {},
   "outputs": [
    {
     "data": {
      "text/plain": [
       "array([[ 6,  8],\n",
       "       [10, 12]])"
      ]
     },
     "execution_count": 66,
     "metadata": {},
     "output_type": "execute_result"
    }
   ],
   "source": [
    "A+B"
   ]
  },
  {
   "cell_type": "code",
   "execution_count": 67,
   "id": "e1c68a1d-c294-4595-8f14-b80de0134d1c",
   "metadata": {},
   "outputs": [
    {
     "data": {
      "text/plain": [
       "array([[19, 22],\n",
       "       [43, 50]])"
      ]
     },
     "execution_count": 67,
     "metadata": {},
     "output_type": "execute_result"
    }
   ],
   "source": [
    "np.dot(A,B)"
   ]
  },
  {
   "cell_type": "code",
   "execution_count": null,
   "id": "98bc95bc-4d24-43b1-871d-027067289b51",
   "metadata": {},
   "outputs": [],
   "source": []
  },
  {
   "cell_type": "code",
   "execution_count": null,
   "id": "a50f96f9-fa1e-4c23-8677-79893eab81e1",
   "metadata": {},
   "outputs": [],
   "source": []
  },
  {
   "cell_type": "code",
   "execution_count": null,
   "id": "e016ca86-f96a-4235-9f69-33d70beb4956",
   "metadata": {},
   "outputs": [],
   "source": []
  },
  {
   "cell_type": "code",
   "execution_count": null,
   "id": "c9bd372c-c536-4570-a422-385dadb03270",
   "metadata": {},
   "outputs": [],
   "source": []
  },
  {
   "cell_type": "code",
   "execution_count": null,
   "id": "f9a0c795-66ff-4dc6-800c-6a7fc7c1c758",
   "metadata": {},
   "outputs": [],
   "source": []
  },
  {
   "cell_type": "code",
   "execution_count": null,
   "id": "abe0fe5a-7c15-4588-b36f-79abedb330d9",
   "metadata": {},
   "outputs": [],
   "source": []
  },
  {
   "cell_type": "code",
   "execution_count": null,
   "id": "c089bc4b-abd3-474c-9202-1c9ec63d292f",
   "metadata": {},
   "outputs": [],
   "source": []
  },
  {
   "cell_type": "code",
   "execution_count": null,
   "id": "b4dc4d8a-d421-4b4e-88f3-8852fc40c421",
   "metadata": {},
   "outputs": [],
   "source": []
  },
  {
   "cell_type": "code",
   "execution_count": null,
   "id": "fb542085-4f1e-4e4a-a030-5453ba398b1c",
   "metadata": {},
   "outputs": [],
   "source": []
  },
  {
   "cell_type": "code",
   "execution_count": null,
   "id": "ec1a2732-08be-4b3e-89d2-fd18ec27104e",
   "metadata": {},
   "outputs": [],
   "source": []
  },
  {
   "cell_type": "code",
   "execution_count": null,
   "id": "e1c4ccb9-6f03-4b5b-9361-9e13bd160039",
   "metadata": {},
   "outputs": [],
   "source": []
  },
  {
   "cell_type": "code",
   "execution_count": null,
   "id": "3b6999cc-8fe2-4b98-8758-2fe7895250d6",
   "metadata": {},
   "outputs": [],
   "source": []
  },
  {
   "cell_type": "code",
   "execution_count": null,
   "id": "e44ce5f9-f0b1-43d0-8a8f-07952f0cda40",
   "metadata": {},
   "outputs": [],
   "source": []
  },
  {
   "cell_type": "code",
   "execution_count": null,
   "id": "ad5ecb23-faec-4c90-b075-96bd18850e0c",
   "metadata": {},
   "outputs": [],
   "source": []
  },
  {
   "cell_type": "code",
   "execution_count": null,
   "id": "d49fcdf2-1b63-49b9-bfee-db11d8353519",
   "metadata": {},
   "outputs": [],
   "source": []
  },
  {
   "cell_type": "code",
   "execution_count": null,
   "id": "4ff35ebe-3387-42c4-a85b-70553737c828",
   "metadata": {},
   "outputs": [],
   "source": []
  },
  {
   "cell_type": "code",
   "execution_count": null,
   "id": "2e6af656-fb0e-4636-b22c-e4fc63896683",
   "metadata": {},
   "outputs": [],
   "source": []
  }
 ],
 "metadata": {
  "kernelspec": {
   "display_name": "Python 3 (ipykernel)",
   "language": "python",
   "name": "python3"
  },
  "language_info": {
   "codemirror_mode": {
    "name": "ipython",
    "version": 3
   },
   "file_extension": ".py",
   "mimetype": "text/x-python",
   "name": "python",
   "nbconvert_exporter": "python",
   "pygments_lexer": "ipython3",
   "version": "3.13.2"
  }
 },
 "nbformat": 4,
 "nbformat_minor": 5
}
