{
 "cells": [
  {
   "cell_type": "code",
   "execution_count": 1,
   "id": "bdd8c81c-fe15-449b-b9f1-158143d9ad50",
   "metadata": {},
   "outputs": [],
   "source": [
    "items = ['{','}','(',')','[',']']\n",
    "ele = {\"{\":\"}\",\"(\":\")\",\"[\":\"]\"}"
   ]
  },
  {
   "cell_type": "code",
   "execution_count": 2,
   "id": "1c4ab6bd-a5e0-450e-941e-1cf7d6afd4ec",
   "metadata": {},
   "outputs": [
    {
     "data": {
      "text/plain": [
       "['{', '}', '(', ')', '[', ']']"
      ]
     },
     "execution_count": 2,
     "metadata": {},
     "output_type": "execute_result"
    }
   ],
   "source": [
    "items"
   ]
  },
  {
   "cell_type": "code",
   "execution_count": 3,
   "id": "f160f279-f699-4e8b-b228-5a92341e5838",
   "metadata": {},
   "outputs": [
    {
     "data": {
      "text/plain": [
       "'{[{(a+b)+c}+d]}'"
      ]
     },
     "execution_count": 3,
     "metadata": {},
     "output_type": "execute_result"
    }
   ],
   "source": [
    "obj = \"{[{(a+b)+c}+d]}\"\n",
    "obj"
   ]
  },
  {
   "cell_type": "markdown",
   "id": "90ffb59d-5624-4488-84df-5eefc6154f20",
   "metadata": {},
   "source": [
    "FIRST METHOD"
   ]
  },
  {
   "cell_type": "code",
   "execution_count": 4,
   "id": "4cbff84f-0b36-453f-aa0d-01fcd72c19af",
   "metadata": {},
   "outputs": [
    {
     "name": "stdout",
     "output_type": "stream",
     "text": [
      "MATCH { }\n",
      "MATCH [ ]\n",
      "MATCH { }\n",
      "MATCH ( )\n",
      "Parantheses matched\n"
     ]
    }
   ],
   "source": [
    "left = 0\n",
    "right = len(obj)-1\n",
    "\n",
    "is_correct = True\n",
    "while(left<=right):\n",
    "    if not is_correct:\n",
    "        break\n",
    "    if obj[left] not in items:\n",
    "        left+=1\n",
    "    elif obj[right] not in items:\n",
    "        right-=1\n",
    "    elif obj[right]==ele[obj[left]]:\n",
    "        print(\"MATCH\",obj[left],obj[right])\n",
    "        left+=1\n",
    "        right-=1\n",
    "    else:\n",
    "        is_correct = False\n",
    "\n",
    "if is_correct:\n",
    "    print(\"Parantheses matched\")\n",
    "else:\n",
    "    print(\"Parantheses not matched\")"
   ]
  },
  {
   "cell_type": "code",
   "execution_count": 5,
   "id": "55a11b59-1e63-4354-b5c8-d7e6f8552b46",
   "metadata": {},
   "outputs": [
    {
     "data": {
      "text/plain": [
       "('{', '}')"
      ]
     },
     "execution_count": 5,
     "metadata": {},
     "output_type": "execute_result"
    }
   ],
   "source": [
    "left = 0\n",
    "right = len(obj)-1\n",
    "obj[left],obj[right]"
   ]
  },
  {
   "cell_type": "markdown",
   "id": "7afac834-aa65-46a7-b19e-9fa176cb720c",
   "metadata": {},
   "source": [
    "SECOND METHOD"
   ]
  },
  {
   "cell_type": "code",
   "execution_count": 6,
   "id": "be494ad5-7bfb-4f8b-9094-8d8923de6ace",
   "metadata": {},
   "outputs": [
    {
     "data": {
      "text/plain": [
       "True"
      ]
     },
     "execution_count": 6,
     "metadata": {},
     "output_type": "execute_result"
    }
   ],
   "source": [
    "def is_balanced(expr):\n",
    "    stack = []\n",
    "    matching  = {\"}\":\"{\",\")\":\"(\",\"]\":\"[\"}\n",
    "    for char in expr:\n",
    "        if char in \"[({\":\n",
    "            stack.append(char)\n",
    "        elif char in \")}]\":\n",
    "            if not stack or stack[-1]!=matching[char]:\n",
    "                return False\n",
    "            stack.pop()\n",
    "    if len(stack)==0:\n",
    "        return True\n",
    "    else:\n",
    "        return False\n",
    "    \n",
    "obj = \"[{[{(a+b)+c}+d]}]\"\n",
    "is_balanced(obj)"
   ]
  },
  {
   "cell_type": "code",
   "execution_count": 7,
   "id": "d107e774-03ad-4a05-b384-7c9039c116eb",
   "metadata": {},
   "outputs": [
    {
     "data": {
      "text/plain": [
       "False"
      ]
     },
     "execution_count": 7,
     "metadata": {},
     "output_type": "execute_result"
    }
   ],
   "source": [
    "is_balanced(\"(a+b\")"
   ]
  },
  {
   "cell_type": "code",
   "execution_count": 8,
   "id": "596c0205-e180-4e33-8ea7-0479281d338e",
   "metadata": {},
   "outputs": [
    {
     "data": {
      "text/plain": [
       "False"
      ]
     },
     "execution_count": 8,
     "metadata": {},
     "output_type": "execute_result"
    }
   ],
   "source": [
    "is_balanced(\"a+b)\")"
   ]
  },
  {
   "cell_type": "code",
   "execution_count": 9,
   "id": "9a2a5597-33b0-4b34-afed-b00c300427c9",
   "metadata": {},
   "outputs": [
    {
     "data": {
      "text/plain": [
       "True"
      ]
     },
     "execution_count": 9,
     "metadata": {},
     "output_type": "execute_result"
    }
   ],
   "source": [
    "is_balanced(\"()a+b\")"
   ]
  },
  {
   "cell_type": "code",
   "execution_count": null,
   "id": "582b3c7d-2bf2-4028-8d81-d38d6a27be22",
   "metadata": {},
   "outputs": [],
   "source": []
  },
  {
   "cell_type": "code",
   "execution_count": null,
   "id": "0644ae12-7793-4418-b224-5e9fc5f8ede1",
   "metadata": {},
   "outputs": [],
   "source": []
  },
  {
   "cell_type": "code",
   "execution_count": null,
   "id": "d8fce6f4-c919-40e8-a976-f12b440f4b95",
   "metadata": {},
   "outputs": [],
   "source": []
  },
  {
   "cell_type": "code",
   "execution_count": null,
   "id": "78840e51-bae0-478e-a409-541157a8f840",
   "metadata": {},
   "outputs": [],
   "source": []
  }
 ],
 "metadata": {
  "kernelspec": {
   "display_name": "Python 3 (ipykernel)",
   "language": "python",
   "name": "python3"
  },
  "language_info": {
   "codemirror_mode": {
    "name": "ipython",
    "version": 3
   },
   "file_extension": ".py",
   "mimetype": "text/x-python",
   "name": "python",
   "nbconvert_exporter": "python",
   "pygments_lexer": "ipython3",
   "version": "3.13.2"
  }
 },
 "nbformat": 4,
 "nbformat_minor": 5
}
