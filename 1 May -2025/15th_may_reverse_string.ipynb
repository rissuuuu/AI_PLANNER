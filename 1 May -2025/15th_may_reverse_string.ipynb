{
 "cells": [
  {
   "cell_type": "raw",
   "id": "4f4753a1-9681-49ce-9b04-db72e013ab61",
   "metadata": {},
   "source": [
    "Reverse the string"
   ]
  },
  {
   "cell_type": "code",
   "execution_count": 62,
   "id": "cbc5550c-494d-4b06-93b0-47fa4511821f",
   "metadata": {},
   "outputs": [
    {
     "data": {
      "text/plain": [
       "'VAHSIR'"
      ]
     },
     "execution_count": 62,
     "metadata": {},
     "output_type": "execute_result"
    }
   ],
   "source": [
    "string = \"RISHAV\"\n",
    "splitted = list(string)\n",
    "''.join([splitted.pop() for _ in range(len(splitted))])"
   ]
  },
  {
   "cell_type": "code",
   "execution_count": 63,
   "id": "1cd7f5ff-0eee-430d-bfc6-8c70cbce7f38",
   "metadata": {},
   "outputs": [
    {
     "data": {
      "text/plain": [
       "'VAHSIR'"
      ]
     },
     "execution_count": 63,
     "metadata": {},
     "output_type": "execute_result"
    }
   ],
   "source": [
    "string[::-1]"
   ]
  },
  {
   "cell_type": "markdown",
   "id": "5a86ca16-4424-4c5a-aed7-250d0ba07b02",
   "metadata": {},
   "source": [
    "time complexity is 0(n)"
   ]
  },
  {
   "cell_type": "code",
   "execution_count": null,
   "id": "4f3a9d06-63af-4274-9cd0-ddb5b97fc3fb",
   "metadata": {},
   "outputs": [],
   "source": []
  },
  {
   "cell_type": "code",
   "execution_count": null,
   "id": "ebab0c05-6452-4b3a-bb34-716667344c30",
   "metadata": {},
   "outputs": [],
   "source": []
  },
  {
   "cell_type": "code",
   "execution_count": null,
   "id": "713782a6-0299-4b80-ac6d-7d9ecd3883a0",
   "metadata": {},
   "outputs": [],
   "source": []
  },
  {
   "cell_type": "code",
   "execution_count": null,
   "id": "e0048287-d2c3-44a6-bc83-f726227a6bea",
   "metadata": {},
   "outputs": [],
   "source": []
  },
  {
   "cell_type": "code",
   "execution_count": null,
   "id": "6b542310-9179-4b7b-a0a7-28783518503c",
   "metadata": {},
   "outputs": [],
   "source": []
  }
 ],
 "metadata": {
  "kernelspec": {
   "display_name": "Python 3 (ipykernel)",
   "language": "python",
   "name": "python3"
  },
  "language_info": {
   "codemirror_mode": {
    "name": "ipython",
    "version": 3
   },
   "file_extension": ".py",
   "mimetype": "text/x-python",
   "name": "python",
   "nbconvert_exporter": "python",
   "pygments_lexer": "ipython3",
   "version": "3.13.2"
  }
 },
 "nbformat": 4,
 "nbformat_minor": 5
}
