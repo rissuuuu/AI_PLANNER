{
 "cells": [
  {
   "cell_type": "markdown",
   "id": "b57b5dea-0f01-4c3a-b435-cc2eb56bcf0b",
   "metadata": {},
   "source": [
    "Date: 2025-05-22"
   ]
  },
  {
   "cell_type": "markdown",
   "id": "5137abf9-5c7f-4fdc-b6db-197fd8cfe6ca",
   "metadata": {},
   "source": [
    "Iterative function to calculate factorial of a given number:"
   ]
  },
  {
   "cell_type": "code",
   "execution_count": 20,
   "id": "868ada1f-ba55-45b6-b95d-cabf4a313dbc",
   "metadata": {},
   "outputs": [
    {
     "data": {
      "text/plain": [
       "120"
      ]
     },
     "execution_count": 20,
     "metadata": {},
     "output_type": "execute_result"
    }
   ],
   "source": [
    "def fact(n):\n",
    "    sum  = 1\n",
    "    for i in range(n,0,-1):\n",
    "        sum = sum*i\n",
    "    return sum\n",
    "\n",
    "n = 5\n",
    "fact(n)"
   ]
  },
  {
   "cell_type": "code",
   "execution_count": null,
   "id": "5800ebda-13bd-437b-a70d-73259b27e241",
   "metadata": {},
   "outputs": [],
   "source": []
  },
  {
   "cell_type": "markdown",
   "id": "e39b788c-8260-4aaf-a424-597de45776d8",
   "metadata": {},
   "source": [
    "Below is the recursion"
   ]
  },
  {
   "cell_type": "code",
   "execution_count": null,
   "id": "d4470429-3095-42c6-8d50-b80a24a75571",
   "metadata": {},
   "outputs": [],
   "source": []
  },
  {
   "cell_type": "code",
   "execution_count": 39,
   "id": "c914ac62-c894-485f-a606-d651055b216c",
   "metadata": {},
   "outputs": [
    {
     "data": {
      "text/plain": [
       "120"
      ]
     },
     "execution_count": 39,
     "metadata": {},
     "output_type": "execute_result"
    }
   ],
   "source": [
    "def fact(n):\n",
    "    if n==0:\n",
    "        return 1\n",
    "    return n*fact(n-1)\n",
    "\n",
    "n = 5\n",
    "fact(5)"
   ]
  },
  {
   "cell_type": "code",
   "execution_count": null,
   "id": "43452c70-c40a-4d9c-a3f2-18932a9c7c6b",
   "metadata": {},
   "outputs": [],
   "source": []
  },
  {
   "cell_type": "code",
   "execution_count": null,
   "id": "1466578d-880b-48aa-9d49-73e365adaac8",
   "metadata": {},
   "outputs": [],
   "source": []
  },
  {
   "cell_type": "code",
   "execution_count": null,
   "id": "cf63e979-54dc-4ae8-9cf7-0045fedd66ec",
   "metadata": {},
   "outputs": [],
   "source": []
  }
 ],
 "metadata": {
  "kernelspec": {
   "display_name": "Python 3 (ipykernel)",
   "language": "python",
   "name": "python3"
  },
  "language_info": {
   "codemirror_mode": {
    "name": "ipython",
    "version": 3
   },
   "file_extension": ".py",
   "mimetype": "text/x-python",
   "name": "python",
   "nbconvert_exporter": "python",
   "pygments_lexer": "ipython3",
   "version": "3.13.2"
  }
 },
 "nbformat": 4,
 "nbformat_minor": 5
}
