{
 "cells": [
  {
   "cell_type": "markdown",
   "id": "2fe03e87-42d0-4283-8d4d-f492f3cd063c",
   "metadata": {},
   "source": [
    "Two sum problem states that in a list of elements, sum of two digits should constitute to desired output\n",
    "[1,2,3,4]\n",
    "Total sum = 5\n",
    "Solutions: [1,4] [2,3]"
   ]
  },
  {
   "cell_type": "code",
   "execution_count": 84,
   "id": "d19783e9-2c57-4925-b42e-7d66b5a9ae9a",
   "metadata": {},
   "outputs": [
    {
     "data": {
      "text/plain": [
       "{'index': [0, 4], 'value': [6, 5]}"
      ]
     },
     "execution_count": 84,
     "metadata": {},
     "output_type": "execute_result"
    }
   ],
   "source": [
    "def process(item,output):\n",
    "    desired_output = 0\n",
    "    i =0\n",
    "    j = 1\n",
    "    while desired_output!=output:\n",
    "        length_ = len(item)\n",
    "        if i==length_ or j==length_:\n",
    "            return \"NOT FOUND\"\n",
    "        sum_ = item[i]+item[j]\n",
    "        if sum_ == output:\n",
    "            return {'index':[i,j],'value':[item[i],item[j]]};\n",
    "        j+=1\n",
    "        if j>=length_:\n",
    "            i+=1\n",
    "            j=i+1\n",
    "\n",
    "item =  [6,2,3,1,5,4]\n",
    "output = 11\n",
    "process(item,output)"
   ]
  },
  {
   "cell_type": "code",
   "execution_count": 96,
   "id": "ad41ea54-6262-4dfe-bd0c-616d53df4a68",
   "metadata": {},
   "outputs": [
    {
     "name": "stdout",
     "output_type": "stream",
     "text": [
      "lookup {}\n",
      "num 6\n",
      "lookup {6: 0}\n",
      "num 2\n",
      "lookup {6: 0, 2: 1}\n",
      "num 3\n",
      "lookup {6: 0, 2: 1, 3: 2}\n",
      "num 1\n",
      "lookup {6: 0, 2: 1, 3: 2, 1: 3}\n",
      "num 5\n",
      "remaining 6\n"
     ]
    },
    {
     "data": {
      "text/plain": [
       "{'index': [0, 4], 'value': [6, 5]}"
      ]
     },
     "execution_count": 96,
     "metadata": {},
     "output_type": "execute_result"
    }
   ],
   "source": [
    "def two_sum(nums, target):\n",
    "    lookup = {}\n",
    "    for i, num in enumerate(nums):\n",
    "        print(\"lookup\",lookup)\n",
    "        print(\"num\",num)\n",
    "        remaining = target - num\n",
    "        if remaining in lookup:\n",
    "            print(\"remaining\",remaining)\n",
    "            return {'index': [lookup[remaining], i], 'value': [remaining, num]}\n",
    "        lookup[num] = i\n",
    "    return \"NOT FOUND\"\n",
    "\n",
    "item =  [6,2,3,1,5,4]\n",
    "output = 11\n",
    "two_sum(item,output)"
   ]
  },
  {
   "cell_type": "markdown",
   "id": "4318c0b1-da7b-478e-9873-b3080c5cbd1b",
   "metadata": {},
   "source": [
    "USING HASHMAP"
   ]
  },
  {
   "cell_type": "code",
   "execution_count": null,
   "id": "cb9a61c2-7318-43a4-85e4-342f1edf6f79",
   "metadata": {},
   "outputs": [],
   "source": []
  },
  {
   "cell_type": "code",
   "execution_count": null,
   "id": "50dfa312-bb08-4f77-a089-67cfc5a94e00",
   "metadata": {},
   "outputs": [],
   "source": []
  },
  {
   "cell_type": "code",
   "execution_count": null,
   "id": "b3d3b341-eda0-4475-b7d5-0e31557c8c25",
   "metadata": {},
   "outputs": [],
   "source": []
  },
  {
   "cell_type": "code",
   "execution_count": null,
   "id": "15346da5-e5b8-4a48-9f8e-a8b4ad7cbf6f",
   "metadata": {},
   "outputs": [],
   "source": []
  },
  {
   "cell_type": "code",
   "execution_count": null,
   "id": "5ed5d5b4-a37f-441b-8234-bcf3c74fd996",
   "metadata": {},
   "outputs": [],
   "source": []
  },
  {
   "cell_type": "code",
   "execution_count": null,
   "id": "afcb517c-b7d9-4a75-9c6b-bfd2063d0ed7",
   "metadata": {},
   "outputs": [],
   "source": []
  },
  {
   "cell_type": "code",
   "execution_count": null,
   "id": "c8f86920-be4e-4cd4-a2f3-579dcc1a6e8a",
   "metadata": {},
   "outputs": [],
   "source": []
  },
  {
   "cell_type": "code",
   "execution_count": null,
   "id": "834b8809-4677-495d-8df1-818a58e58fca",
   "metadata": {},
   "outputs": [],
   "source": []
  },
  {
   "cell_type": "code",
   "execution_count": null,
   "id": "7c0cae9f-bebe-40a4-839c-2ef0bfb9663d",
   "metadata": {},
   "outputs": [],
   "source": []
  }
 ],
 "metadata": {
  "kernelspec": {
   "display_name": "Python 3 (ipykernel)",
   "language": "python",
   "name": "python3"
  },
  "language_info": {
   "codemirror_mode": {
    "name": "ipython",
    "version": 3
   },
   "file_extension": ".py",
   "mimetype": "text/x-python",
   "name": "python",
   "nbconvert_exporter": "python",
   "pygments_lexer": "ipython3",
   "version": "3.13.2"
  }
 },
 "nbformat": 4,
 "nbformat_minor": 5
}
