{
 "cells": [
  {
   "cell_type": "markdown",
   "id": "c1774969-2c32-49d0-af55-2b906f814da5",
   "metadata": {},
   "source": [
    "Implementing fibonacci without recursion"
   ]
  },
  {
   "cell_type": "code",
   "execution_count": 106,
   "id": "333a660b-f730-4b7f-8fa1-821156b7e082",
   "metadata": {},
   "outputs": [
    {
     "data": {
      "text/plain": [
       "[0, 1, 1, 2, 3, 5, 8, 13, 21, 34]"
      ]
     },
     "execution_count": 106,
     "metadata": {},
     "output_type": "execute_result"
    }
   ],
   "source": [
    "def fib(n):\n",
    "    i = 0\n",
    "    j = 1\n",
    "    l = [i,j]\n",
    "    for _ in range(n):\n",
    "        i,j = j,i+j\n",
    "        l.append(j)\n",
    "    return l\n",
    "\n",
    "fib(8)\n"
   ]
  },
  {
   "cell_type": "markdown",
   "id": "a01d8a4d-5fed-4767-b284-3358ae714681",
   "metadata": {},
   "source": [
    "Implementing fibonacci using recursion"
   ]
  },
  {
   "cell_type": "code",
   "execution_count": 87,
   "id": "bd5b76e0-6bf4-45cc-9ce3-38ade54a20b6",
   "metadata": {},
   "outputs": [
    {
     "data": {
      "text/plain": [
       "[0, 1, 1, 2, 3, 5, 8, 13, 21, 34]"
      ]
     },
     "execution_count": 87,
     "metadata": {},
     "output_type": "execute_result"
    }
   ],
   "source": [
    "def fib(n):\n",
    "    if n>=0:\n",
    "        if n==0:\n",
    "            return 0\n",
    "        if n==1:\n",
    "            return 1\n",
    "        if n>=2:\n",
    "            return fib(n-1)+fib(n-2)\n",
    "        \n",
    "\n",
    "n = 10\n",
    "l = []\n",
    "# here issue is, fib is recalculating same value wtice. can be resolved by caching.\n",
    "for i in range(n):\n",
    "    l.append(fib(i))\n",
    "l"
   ]
  },
  {
   "cell_type": "code",
   "execution_count": null,
   "id": "74f59aab-4d49-4ada-b7f6-55bc889e3adc",
   "metadata": {},
   "outputs": [],
   "source": []
  },
  {
   "cell_type": "code",
   "execution_count": null,
   "id": "3adf2843-f7ed-4a35-8647-120188e5e4f3",
   "metadata": {},
   "outputs": [],
   "source": []
  },
  {
   "cell_type": "code",
   "execution_count": null,
   "id": "8b503bde-4eea-4048-ae4c-86a6273cb8bd",
   "metadata": {},
   "outputs": [],
   "source": []
  },
  {
   "cell_type": "code",
   "execution_count": null,
   "id": "68a02e56-0b6a-4672-bc78-ca86f314ba9b",
   "metadata": {},
   "outputs": [],
   "source": []
  },
  {
   "cell_type": "code",
   "execution_count": null,
   "id": "c7aec751-4dc6-4af8-ba9d-2a2b773aacd2",
   "metadata": {},
   "outputs": [],
   "source": []
  },
  {
   "cell_type": "code",
   "execution_count": null,
   "id": "1a3c73aa-bfc3-4fb3-a624-7d07b022d28c",
   "metadata": {},
   "outputs": [],
   "source": []
  },
  {
   "cell_type": "code",
   "execution_count": null,
   "id": "1048e8f3-089d-4333-abb3-9ca5f9f39d5a",
   "metadata": {},
   "outputs": [],
   "source": []
  },
  {
   "cell_type": "code",
   "execution_count": null,
   "id": "c210cf19-b370-4568-a3f3-a211cfdbf7b6",
   "metadata": {},
   "outputs": [],
   "source": []
  }
 ],
 "metadata": {
  "kernelspec": {
   "display_name": "Python 3 (ipykernel)",
   "language": "python",
   "name": "python3"
  },
  "language_info": {
   "codemirror_mode": {
    "name": "ipython",
    "version": 3
   },
   "file_extension": ".py",
   "mimetype": "text/x-python",
   "name": "python",
   "nbconvert_exporter": "python",
   "pygments_lexer": "ipython3",
   "version": "3.13.2"
  }
 },
 "nbformat": 4,
 "nbformat_minor": 5
}
