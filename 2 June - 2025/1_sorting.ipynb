{
 "cells": [
  {
   "cell_type": "markdown",
   "id": "a2d42023-7723-42f7-8188-a0322f5458b4",
   "metadata": {},
   "source": [
    "Bubble Sort"
   ]
  },
  {
   "cell_type": "code",
   "execution_count": 49,
   "id": "3bbd313d-8452-4999-962f-54aa5daae978",
   "metadata": {},
   "outputs": [
    {
     "data": {
      "text/plain": [
       "[-3, 1, 2, 3, 4, 5, 6, 7, 11]"
      ]
     },
     "execution_count": 49,
     "metadata": {},
     "output_type": "execute_result"
    }
   ],
   "source": [
    "def bubble_sort(arr):\n",
    "    for i in range(1,len(arr)):\n",
    "        for j in range(i+1,len(arr)):\n",
    "            if arr[i]>arr[j]:\n",
    "                arr[i],arr[j]=arr[j],arr[i]\n",
    "    return arr)\n",
    "\n",
    "arr = [-3,1,4,2,5,7,3,6,11]\n",
    "bubble_sort(arr)"
   ]
  },
  {
   "cell_type": "code",
   "execution_count": null,
   "id": "65d935d8-4052-43c6-9212-eebfe7e0d5a0",
   "metadata": {},
   "outputs": [],
   "source": []
  },
  {
   "cell_type": "markdown",
   "id": "37c3c052-d2ad-49c6-b74a-5b5f59c3999d",
   "metadata": {},
   "source": [
    "Selection Sort"
   ]
  },
  {
   "cell_type": "code",
   "execution_count": 76,
   "id": "9b9243c3-4bf2-403a-a49d-31bed6a15aa2",
   "metadata": {},
   "outputs": [
    {
     "data": {
      "text/plain": [
       "[-3, 1, 2, 3, 4, 5, 6, 7, 11]"
      ]
     },
     "execution_count": 76,
     "metadata": {},
     "output_type": "execute_result"
    }
   ],
   "source": [
    "def selection_sort(arr):\n",
    "    for i in range(1,len(arr)):\n",
    "        min_ = i\n",
    "        for j in range(i+1,len(arr)):\n",
    "            if arr[j]<arr[min_]:\n",
    "                min_ = j\n",
    "        arr[i],arr[min_] = arr[min_],arr[i]\n",
    "    return arr\n",
    "\n",
    "arr = [-3,1,4,2,5,7,3,6,11]\n",
    "selection_sort(arr)"
   ]
  },
  {
   "cell_type": "code",
   "execution_count": null,
   "id": "5ae5f713-8616-445f-9ef0-7aca1391df49",
   "metadata": {},
   "outputs": [],
   "source": []
  },
  {
   "cell_type": "markdown",
   "id": "bc5d84d4-9154-4824-aa7f-92f3412a218f",
   "metadata": {},
   "source": [
    "Insertion Sort"
   ]
  },
  {
   "cell_type": "code",
   "execution_count": 94,
   "id": "d9cc17da-07db-4034-a9bf-d2eeacd3a1dd",
   "metadata": {},
   "outputs": [
    {
     "data": {
      "text/plain": [
       "[-3, 1, 2, 3, 4, 5, 6, 7, 11]"
      ]
     },
     "execution_count": 94,
     "metadata": {},
     "output_type": "execute_result"
    }
   ],
   "source": [
    "def insertion_sort(arr):\n",
    "    for i in range(0,len(arr)):\n",
    "        key = arr[i]\n",
    "        index = i-1\n",
    "        while index>=0 and arr[index]>key:\n",
    "            arr[index+1]=arr[index]\n",
    "            index-=1\n",
    "        arr[index+1] = key\n",
    "        \n",
    "    return arr\n",
    "\n",
    "arr = [-3,1,4,2,5,7,3,6,11]\n",
    "insertion_sort(arr)"
   ]
  },
  {
   "cell_type": "code",
   "execution_count": null,
   "id": "dc906ab7-5a36-4d24-9c1e-f02eb0deb637",
   "metadata": {},
   "outputs": [],
   "source": []
  },
  {
   "cell_type": "code",
   "execution_count": null,
   "id": "39256692-ffa9-40d2-b5a8-1e8003197d74",
   "metadata": {},
   "outputs": [],
   "source": []
  },
  {
   "cell_type": "code",
   "execution_count": null,
   "id": "ed0ac47c-c7a8-4305-885b-bde156e73b36",
   "metadata": {},
   "outputs": [],
   "source": []
  }
 ],
 "metadata": {
  "kernelspec": {
   "display_name": "Python 3 (ipykernel)",
   "language": "python",
   "name": "python3"
  },
  "language_info": {
   "codemirror_mode": {
    "name": "ipython",
    "version": 3
   },
   "file_extension": ".py",
   "mimetype": "text/x-python",
   "name": "python",
   "nbconvert_exporter": "python",
   "pygments_lexer": "ipython3",
   "version": "3.13.2"
  }
 },
 "nbformat": 4,
 "nbformat_minor": 5
}
