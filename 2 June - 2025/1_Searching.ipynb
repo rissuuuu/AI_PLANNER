{
 "cells": [
  {
   "cell_type": "markdown",
   "id": "b599bfdc-b548-4208-acf7-fc557b8afa5d",
   "metadata": {},
   "source": [
    "Linear Search"
   ]
  },
  {
   "cell_type": "code",
   "execution_count": 16,
   "id": "7f29c6d0-1e86-4b13-a13d-9037c559d841",
   "metadata": {},
   "outputs": [
    {
     "data": {
      "text/plain": [
       "'Found item: 1 at index 7'"
      ]
     },
     "execution_count": 16,
     "metadata": {},
     "output_type": "execute_result"
    }
   ],
   "source": [
    "def linear_search_iterative(arr,ele):\n",
    "    for i in range(len(arr)):\n",
    "        if ele==arr[i]:\n",
    "            return f\"Found item: {ele} at index {i}\"\n",
    "    else:\n",
    "        return \"Not found\"\n",
    "\n",
    "arr = [2,4,3,5,6,7,8,1,9,11]\n",
    "ele = 1\n",
    "linear_search_iterative(arr,ele)"
   ]
  },
  {
   "cell_type": "code",
   "execution_count": null,
   "id": "12ba1786-4e54-4c91-9252-808d5ffb52bc",
   "metadata": {},
   "outputs": [],
   "source": []
  },
  {
   "cell_type": "code",
   "execution_count": 20,
   "id": "a6b01f5b-491d-4e6f-a29a-04c58727a879",
   "metadata": {},
   "outputs": [
    {
     "data": {
      "text/plain": [
       "2"
      ]
     },
     "execution_count": 20,
     "metadata": {},
     "output_type": "execute_result"
    }
   ],
   "source": [
    "5//2"
   ]
  },
  {
   "cell_type": "code",
   "execution_count": null,
   "id": "5686c99b-6b92-42a8-921e-7a66b4636bcd",
   "metadata": {},
   "outputs": [],
   "source": []
  },
  {
   "cell_type": "code",
   "execution_count": null,
   "id": "2fcf3851-5cf8-4cb8-9ae5-92c76a2e845b",
   "metadata": {},
   "outputs": [],
   "source": []
  },
  {
   "cell_type": "code",
   "execution_count": null,
   "id": "a1ea0411-9fdd-4c31-a97c-33d8f30ed62c",
   "metadata": {},
   "outputs": [],
   "source": []
  },
  {
   "cell_type": "code",
   "execution_count": null,
   "id": "ddcc6488-1de8-4ea8-ad9e-3a1028035ad4",
   "metadata": {},
   "outputs": [],
   "source": []
  }
 ],
 "metadata": {
  "kernelspec": {
   "display_name": "Python 3 (ipykernel)",
   "language": "python",
   "name": "python3"
  },
  "language_info": {
   "codemirror_mode": {
    "name": "ipython",
    "version": 3
   },
   "file_extension": ".py",
   "mimetype": "text/x-python",
   "name": "python",
   "nbconvert_exporter": "python",
   "pygments_lexer": "ipython3",
   "version": "3.13.2"
  }
 },
 "nbformat": 4,
 "nbformat_minor": 5
}
