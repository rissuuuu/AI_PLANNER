{
 "cells": [
  {
   "cell_type": "markdown",
   "id": "b599bfdc-b548-4208-acf7-fc557b8afa5d",
   "metadata": {},
   "source": [
    "Linear Search"
   ]
  },
  {
   "cell_type": "code",
   "execution_count": 16,
   "id": "7f29c6d0-1e86-4b13-a13d-9037c559d841",
   "metadata": {
    "scrolled": true
   },
   "outputs": [
    {
     "data": {
      "text/plain": [
       "'Found item: 1 at index 7'"
      ]
     },
     "execution_count": 16,
     "metadata": {},
     "output_type": "execute_result"
    }
   ],
   "source": [
    "def linear_search_iterative(arr,ele):\n",
    "    for i in range(len(arr)):\n",
    "        if ele==arr[i]:\n",
    "            return f\"Found item: {ele} at index {i}\"\n",
    "    else:\n",
    "        return \"Not found\"\n",
    "\n",
    "arr = [2,4,3,5,6,7,8,1,9,11]\n",
    "ele = 1\n",
    "linear_search_iterative(arr,ele)"
   ]
  },
  {
   "cell_type": "code",
   "execution_count": null,
   "id": "b06f55e4-55f0-4ab4-8452-8b210709efe0",
   "metadata": {},
   "outputs": [],
   "source": []
  },
  {
   "cell_type": "markdown",
   "id": "4e17f09e-fd71-4cd3-b662-0ac55ee369c3",
   "metadata": {},
   "source": [
    "Binary search using recursion"
   ]
  },
  {
   "cell_type": "code",
   "execution_count": 67,
   "id": "12ba1786-4e54-4c91-9252-808d5ffb52bc",
   "metadata": {},
   "outputs": [
    {
     "name": "stdout",
     "output_type": "stream",
     "text": [
      "[2, 3, 6, 11, 11, 14, 15, 27, 80, 93]\n"
     ]
    },
    {
     "data": {
      "text/plain": [
       "'Found'"
      ]
     },
     "execution_count": 67,
     "metadata": {},
     "output_type": "execute_result"
    }
   ],
   "source": [
    "def binary_search_recursion(arr,ele):\n",
    "    mid = len(arr)//2\n",
    "\n",
    "    if len(arr)==0:\n",
    "        return \"Not Found\"\n",
    "    if ele == arr[mid]:\n",
    "        return f\"Found\"\n",
    "    if ele < arr[mid]:\n",
    "        return linear_search_recursion(arr[:mid-1],ele)\n",
    "    elif ele>arr[mid]:\n",
    "        return linear_search_recursion(arr[mid+1:],ele)        \n",
    "\n",
    "arr = [2,14,3,15,6,27,80,11,93,11]\n",
    "arr.sort()\n",
    "print(arr)\n",
    "ele = 80\n",
    "binary_search_recursion(arr,ele)"
   ]
  },
  {
   "cell_type": "code",
   "execution_count": null,
   "id": "a6b01f5b-491d-4e6f-a29a-04c58727a879",
   "metadata": {},
   "outputs": [],
   "source": []
  },
  {
   "cell_type": "markdown",
   "id": "e9358674-b6a6-410d-8f96-ea211677dabd",
   "metadata": {},
   "source": [
    "Linear search using recursion"
   ]
  },
  {
   "cell_type": "code",
   "execution_count": 75,
   "id": "2fcf3851-5cf8-4cb8-9ae5-92c76a2e845b",
   "metadata": {},
   "outputs": [
    {
     "data": {
      "text/plain": [
       "'Not Found'"
      ]
     },
     "execution_count": 75,
     "metadata": {},
     "output_type": "execute_result"
    }
   ],
   "source": [
    "def linear_search_recursion(arr,ele,index = 0):\n",
    "    if index>=len(arr):\n",
    "        return \"Not Found\"\n",
    "    if arr[index] == ele:\n",
    "        return \"Found\"\n",
    "    return linear_search_recursion(arr,ele,index+1)\n",
    "\n",
    "arr = [2,14,3,15,6,27,80,11,93,11]\n",
    "ele = 81\n",
    "linear_search_recursion(arr,ele)"
   ]
  },
  {
   "cell_type": "code",
   "execution_count": null,
   "id": "a1ea0411-9fdd-4c31-a97c-33d8f30ed62c",
   "metadata": {},
   "outputs": [],
   "source": []
  },
  {
   "cell_type": "code",
   "execution_count": null,
   "id": "ddcc6488-1de8-4ea8-ad9e-3a1028035ad4",
   "metadata": {},
   "outputs": [],
   "source": []
  }
 ],
 "metadata": {
  "kernelspec": {
   "display_name": "Python 3 (ipykernel)",
   "language": "python",
   "name": "python3"
  },
  "language_info": {
   "codemirror_mode": {
    "name": "ipython",
    "version": 3
   },
   "file_extension": ".py",
   "mimetype": "text/x-python",
   "name": "python",
   "nbconvert_exporter": "python",
   "pygments_lexer": "ipython3",
   "version": "3.13.2"
  }
 },
 "nbformat": 4,
 "nbformat_minor": 5
}
